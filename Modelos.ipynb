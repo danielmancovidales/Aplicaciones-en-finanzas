{
  "nbformat": 4,
  "nbformat_minor": 0,
  "metadata": {
    "colab": {
      "provenance": [],
      "include_colab_link": true
    },
    "kernelspec": {
      "name": "python3",
      "display_name": "Python 3"
    },
    "language_info": {
      "name": "python"
    }
  },
  "cells": [
    {
      "cell_type": "markdown",
      "metadata": {
        "id": "view-in-github",
        "colab_type": "text"
      },
      "source": [
        "<a href=\"https://colab.research.google.com/github/danielmancovidales/Aplicaciones-en-finanzas/blob/main/Modelos.ipynb\" target=\"_parent\"><img src=\"https://colab.research.google.com/assets/colab-badge.svg\" alt=\"Open In Colab\"/></a>"
      ]
    },
    {
      "cell_type": "code",
      "execution_count": 235,
      "metadata": {
        "id": "LNemftqXKaCX"
      },
      "outputs": [],
      "source": [
        "import pandas as pd\n",
        "import numpy as np\n",
        "import seaborn as sns\n",
        "import matplotlib.pyplot as plt\n",
        "from sklearn.preprocessing import StandardScaler\n",
        "from scipy.stats import chi2_contingency\n",
        "from sklearn.linear_model import LinearRegression\n",
        "from sklearn.linear_model import Ridge, Lasso\n",
        "from sklearn.model_selection import cross_val_score\n",
        "from sklearn.ensemble import RandomForestRegressor\n",
        "import xgboost as xgb\n",
        "from sklearn.model_selection import train_test_split\n",
        "from sklearn.ensemble import RandomForestRegressor\n",
        "from sklearn.metrics import mean_squared_error, mean_absolute_error, r2_score\n",
        "from math import sqrt\n",
        "from sklearn.metrics import accuracy_score, precision_score, recall_score, f1_score, confusion_matrix, classification_report\n",
        "from sklearn.tree import DecisionTreeRegressor\n",
        "from sklearn.linear_model import SGDRegressor"
      ]
    },
    {
      "cell_type": "code",
      "source": [
        "# Lectura de base de datos\n",
        "from google.colab import drive\n",
        "drive.mount('/content/drive')"
      ],
      "metadata": {
        "colab": {
          "base_uri": "https://localhost:8080/"
        },
        "id": "z-qp9vDOLIp0",
        "outputId": "8dda5e81-90c7-4364-a1ab-597dc96f2a2c"
      },
      "execution_count": 236,
      "outputs": [
        {
          "output_type": "stream",
          "name": "stdout",
          "text": [
            "Drive already mounted at /content/drive; to attempt to forcibly remount, call drive.mount(\"/content/drive\", force_remount=True).\n"
          ]
        }
      ]
    },
    {
      "cell_type": "code",
      "source": [
        "df= pd.read_csv('/content/drive/MyDrive/analitica3/Financiera/df_final2.csv')\n",
        "df.drop(['Unnamed: 0'],axis=1, inplace=True)"
      ],
      "metadata": {
        "id": "0NNJ6atSLe-G"
      },
      "execution_count": 237,
      "outputs": []
    },
    {
      "cell_type": "code",
      "source": [
        "df = df.dropna(subset=['ciudad'])\n"
      ],
      "metadata": {
        "id": "1itXnuRI7aAw"
      },
      "execution_count": 238,
      "outputs": []
    },
    {
      "cell_type": "code",
      "source": [
        "df.head(2)"
      ],
      "metadata": {
        "id": "k_pcHGVb-WZl",
        "outputId": "fc541132-bd8e-43f9-fcc6-f36a8def1022",
        "colab": {
          "base_uri": "https://localhost:8080/",
          "height": 112
        }
      },
      "execution_count": 239,
      "outputs": [
        {
          "output_type": "execute_result",
          "data": {
            "text/plain": [
              "   eventos  valor_pagado  ciudad  cancer  epoc  diabetes  hipertension  \\\n",
              "0        1     715463.04     1.0       0     0         0             0   \n",
              "1        1     691983.39     1.0       0     1         0             0   \n",
              "\n",
              "   enf_cardiovascular  genero  edad  cantidad_enfermedades  clasifica_diagn  \n",
              "0                   0       1    27                      0                2  \n",
              "1                   0       0    42                      1                2  "
            ],
            "text/html": [
              "\n",
              "  <div id=\"df-237bd696-ed29-4adb-ba58-480973f75601\" class=\"colab-df-container\">\n",
              "    <div>\n",
              "<style scoped>\n",
              "    .dataframe tbody tr th:only-of-type {\n",
              "        vertical-align: middle;\n",
              "    }\n",
              "\n",
              "    .dataframe tbody tr th {\n",
              "        vertical-align: top;\n",
              "    }\n",
              "\n",
              "    .dataframe thead th {\n",
              "        text-align: right;\n",
              "    }\n",
              "</style>\n",
              "<table border=\"1\" class=\"dataframe\">\n",
              "  <thead>\n",
              "    <tr style=\"text-align: right;\">\n",
              "      <th></th>\n",
              "      <th>eventos</th>\n",
              "      <th>valor_pagado</th>\n",
              "      <th>ciudad</th>\n",
              "      <th>cancer</th>\n",
              "      <th>epoc</th>\n",
              "      <th>diabetes</th>\n",
              "      <th>hipertension</th>\n",
              "      <th>enf_cardiovascular</th>\n",
              "      <th>genero</th>\n",
              "      <th>edad</th>\n",
              "      <th>cantidad_enfermedades</th>\n",
              "      <th>clasifica_diagn</th>\n",
              "    </tr>\n",
              "  </thead>\n",
              "  <tbody>\n",
              "    <tr>\n",
              "      <th>0</th>\n",
              "      <td>1</td>\n",
              "      <td>715463.04</td>\n",
              "      <td>1.0</td>\n",
              "      <td>0</td>\n",
              "      <td>0</td>\n",
              "      <td>0</td>\n",
              "      <td>0</td>\n",
              "      <td>0</td>\n",
              "      <td>1</td>\n",
              "      <td>27</td>\n",
              "      <td>0</td>\n",
              "      <td>2</td>\n",
              "    </tr>\n",
              "    <tr>\n",
              "      <th>1</th>\n",
              "      <td>1</td>\n",
              "      <td>691983.39</td>\n",
              "      <td>1.0</td>\n",
              "      <td>0</td>\n",
              "      <td>1</td>\n",
              "      <td>0</td>\n",
              "      <td>0</td>\n",
              "      <td>0</td>\n",
              "      <td>0</td>\n",
              "      <td>42</td>\n",
              "      <td>1</td>\n",
              "      <td>2</td>\n",
              "    </tr>\n",
              "  </tbody>\n",
              "</table>\n",
              "</div>\n",
              "    <div class=\"colab-df-buttons\">\n",
              "\n",
              "  <div class=\"colab-df-container\">\n",
              "    <button class=\"colab-df-convert\" onclick=\"convertToInteractive('df-237bd696-ed29-4adb-ba58-480973f75601')\"\n",
              "            title=\"Convert this dataframe to an interactive table.\"\n",
              "            style=\"display:none;\">\n",
              "\n",
              "  <svg xmlns=\"http://www.w3.org/2000/svg\" height=\"24px\" viewBox=\"0 -960 960 960\">\n",
              "    <path d=\"M120-120v-720h720v720H120Zm60-500h600v-160H180v160Zm220 220h160v-160H400v160Zm0 220h160v-160H400v160ZM180-400h160v-160H180v160Zm440 0h160v-160H620v160ZM180-180h160v-160H180v160Zm440 0h160v-160H620v160Z\"/>\n",
              "  </svg>\n",
              "    </button>\n",
              "\n",
              "  <style>\n",
              "    .colab-df-container {\n",
              "      display:flex;\n",
              "      gap: 12px;\n",
              "    }\n",
              "\n",
              "    .colab-df-convert {\n",
              "      background-color: #E8F0FE;\n",
              "      border: none;\n",
              "      border-radius: 50%;\n",
              "      cursor: pointer;\n",
              "      display: none;\n",
              "      fill: #1967D2;\n",
              "      height: 32px;\n",
              "      padding: 0 0 0 0;\n",
              "      width: 32px;\n",
              "    }\n",
              "\n",
              "    .colab-df-convert:hover {\n",
              "      background-color: #E2EBFA;\n",
              "      box-shadow: 0px 1px 2px rgba(60, 64, 67, 0.3), 0px 1px 3px 1px rgba(60, 64, 67, 0.15);\n",
              "      fill: #174EA6;\n",
              "    }\n",
              "\n",
              "    .colab-df-buttons div {\n",
              "      margin-bottom: 4px;\n",
              "    }\n",
              "\n",
              "    [theme=dark] .colab-df-convert {\n",
              "      background-color: #3B4455;\n",
              "      fill: #D2E3FC;\n",
              "    }\n",
              "\n",
              "    [theme=dark] .colab-df-convert:hover {\n",
              "      background-color: #434B5C;\n",
              "      box-shadow: 0px 1px 3px 1px rgba(0, 0, 0, 0.15);\n",
              "      filter: drop-shadow(0px 1px 2px rgba(0, 0, 0, 0.3));\n",
              "      fill: #FFFFFF;\n",
              "    }\n",
              "  </style>\n",
              "\n",
              "    <script>\n",
              "      const buttonEl =\n",
              "        document.querySelector('#df-237bd696-ed29-4adb-ba58-480973f75601 button.colab-df-convert');\n",
              "      buttonEl.style.display =\n",
              "        google.colab.kernel.accessAllowed ? 'block' : 'none';\n",
              "\n",
              "      async function convertToInteractive(key) {\n",
              "        const element = document.querySelector('#df-237bd696-ed29-4adb-ba58-480973f75601');\n",
              "        const dataTable =\n",
              "          await google.colab.kernel.invokeFunction('convertToInteractive',\n",
              "                                                    [key], {});\n",
              "        if (!dataTable) return;\n",
              "\n",
              "        const docLinkHtml = 'Like what you see? Visit the ' +\n",
              "          '<a target=\"_blank\" href=https://colab.research.google.com/notebooks/data_table.ipynb>data table notebook</a>'\n",
              "          + ' to learn more about interactive tables.';\n",
              "        element.innerHTML = '';\n",
              "        dataTable['output_type'] = 'display_data';\n",
              "        await google.colab.output.renderOutput(dataTable, element);\n",
              "        const docLink = document.createElement('div');\n",
              "        docLink.innerHTML = docLinkHtml;\n",
              "        element.appendChild(docLink);\n",
              "      }\n",
              "    </script>\n",
              "  </div>\n",
              "\n",
              "\n",
              "<div id=\"df-06ebbb20-6b46-43ad-a276-c2e44505b85c\">\n",
              "  <button class=\"colab-df-quickchart\" onclick=\"quickchart('df-06ebbb20-6b46-43ad-a276-c2e44505b85c')\"\n",
              "            title=\"Suggest charts\"\n",
              "            style=\"display:none;\">\n",
              "\n",
              "<svg xmlns=\"http://www.w3.org/2000/svg\" height=\"24px\"viewBox=\"0 0 24 24\"\n",
              "     width=\"24px\">\n",
              "    <g>\n",
              "        <path d=\"M19 3H5c-1.1 0-2 .9-2 2v14c0 1.1.9 2 2 2h14c1.1 0 2-.9 2-2V5c0-1.1-.9-2-2-2zM9 17H7v-7h2v7zm4 0h-2V7h2v10zm4 0h-2v-4h2v4z\"/>\n",
              "    </g>\n",
              "</svg>\n",
              "  </button>\n",
              "\n",
              "<style>\n",
              "  .colab-df-quickchart {\n",
              "      --bg-color: #E8F0FE;\n",
              "      --fill-color: #1967D2;\n",
              "      --hover-bg-color: #E2EBFA;\n",
              "      --hover-fill-color: #174EA6;\n",
              "      --disabled-fill-color: #AAA;\n",
              "      --disabled-bg-color: #DDD;\n",
              "  }\n",
              "\n",
              "  [theme=dark] .colab-df-quickchart {\n",
              "      --bg-color: #3B4455;\n",
              "      --fill-color: #D2E3FC;\n",
              "      --hover-bg-color: #434B5C;\n",
              "      --hover-fill-color: #FFFFFF;\n",
              "      --disabled-bg-color: #3B4455;\n",
              "      --disabled-fill-color: #666;\n",
              "  }\n",
              "\n",
              "  .colab-df-quickchart {\n",
              "    background-color: var(--bg-color);\n",
              "    border: none;\n",
              "    border-radius: 50%;\n",
              "    cursor: pointer;\n",
              "    display: none;\n",
              "    fill: var(--fill-color);\n",
              "    height: 32px;\n",
              "    padding: 0;\n",
              "    width: 32px;\n",
              "  }\n",
              "\n",
              "  .colab-df-quickchart:hover {\n",
              "    background-color: var(--hover-bg-color);\n",
              "    box-shadow: 0 1px 2px rgba(60, 64, 67, 0.3), 0 1px 3px 1px rgba(60, 64, 67, 0.15);\n",
              "    fill: var(--button-hover-fill-color);\n",
              "  }\n",
              "\n",
              "  .colab-df-quickchart-complete:disabled,\n",
              "  .colab-df-quickchart-complete:disabled:hover {\n",
              "    background-color: var(--disabled-bg-color);\n",
              "    fill: var(--disabled-fill-color);\n",
              "    box-shadow: none;\n",
              "  }\n",
              "\n",
              "  .colab-df-spinner {\n",
              "    border: 2px solid var(--fill-color);\n",
              "    border-color: transparent;\n",
              "    border-bottom-color: var(--fill-color);\n",
              "    animation:\n",
              "      spin 1s steps(1) infinite;\n",
              "  }\n",
              "\n",
              "  @keyframes spin {\n",
              "    0% {\n",
              "      border-color: transparent;\n",
              "      border-bottom-color: var(--fill-color);\n",
              "      border-left-color: var(--fill-color);\n",
              "    }\n",
              "    20% {\n",
              "      border-color: transparent;\n",
              "      border-left-color: var(--fill-color);\n",
              "      border-top-color: var(--fill-color);\n",
              "    }\n",
              "    30% {\n",
              "      border-color: transparent;\n",
              "      border-left-color: var(--fill-color);\n",
              "      border-top-color: var(--fill-color);\n",
              "      border-right-color: var(--fill-color);\n",
              "    }\n",
              "    40% {\n",
              "      border-color: transparent;\n",
              "      border-right-color: var(--fill-color);\n",
              "      border-top-color: var(--fill-color);\n",
              "    }\n",
              "    60% {\n",
              "      border-color: transparent;\n",
              "      border-right-color: var(--fill-color);\n",
              "    }\n",
              "    80% {\n",
              "      border-color: transparent;\n",
              "      border-right-color: var(--fill-color);\n",
              "      border-bottom-color: var(--fill-color);\n",
              "    }\n",
              "    90% {\n",
              "      border-color: transparent;\n",
              "      border-bottom-color: var(--fill-color);\n",
              "    }\n",
              "  }\n",
              "</style>\n",
              "\n",
              "  <script>\n",
              "    async function quickchart(key) {\n",
              "      const quickchartButtonEl =\n",
              "        document.querySelector('#' + key + ' button');\n",
              "      quickchartButtonEl.disabled = true;  // To prevent multiple clicks.\n",
              "      quickchartButtonEl.classList.add('colab-df-spinner');\n",
              "      try {\n",
              "        const charts = await google.colab.kernel.invokeFunction(\n",
              "            'suggestCharts', [key], {});\n",
              "      } catch (error) {\n",
              "        console.error('Error during call to suggestCharts:', error);\n",
              "      }\n",
              "      quickchartButtonEl.classList.remove('colab-df-spinner');\n",
              "      quickchartButtonEl.classList.add('colab-df-quickchart-complete');\n",
              "    }\n",
              "    (() => {\n",
              "      let quickchartButtonEl =\n",
              "        document.querySelector('#df-06ebbb20-6b46-43ad-a276-c2e44505b85c button');\n",
              "      quickchartButtonEl.style.display =\n",
              "        google.colab.kernel.accessAllowed ? 'block' : 'none';\n",
              "    })();\n",
              "  </script>\n",
              "</div>\n",
              "    </div>\n",
              "  </div>\n"
            ],
            "application/vnd.google.colaboratory.intrinsic+json": {
              "type": "dataframe",
              "variable_name": "df",
              "summary": "{\n  \"name\": \"df\",\n  \"rows\": 26285,\n  \"fields\": [\n    {\n      \"column\": \"eventos\",\n      \"properties\": {\n        \"dtype\": \"number\",\n        \"std\": 0,\n        \"min\": 1,\n        \"max\": 1,\n        \"num_unique_values\": 1,\n        \"samples\": [\n          1\n        ],\n        \"semantic_type\": \"\",\n        \"description\": \"\"\n      }\n    },\n    {\n      \"column\": \"valor_pagado\",\n      \"properties\": {\n        \"dtype\": \"number\",\n        \"std\": 2462240.65660783,\n        \"min\": 363268.32,\n        \"max\": 24203026.61,\n        \"num_unique_values\": 11008,\n        \"samples\": [\n          5360741.16\n        ],\n        \"semantic_type\": \"\",\n        \"description\": \"\"\n      }\n    },\n    {\n      \"column\": \"ciudad\",\n      \"properties\": {\n        \"dtype\": \"number\",\n        \"std\": 1.2020140788531566,\n        \"min\": 1.0,\n        \"max\": 6.0,\n        \"num_unique_values\": 6,\n        \"samples\": [\n          1.0\n        ],\n        \"semantic_type\": \"\",\n        \"description\": \"\"\n      }\n    },\n    {\n      \"column\": \"cancer\",\n      \"properties\": {\n        \"dtype\": \"number\",\n        \"std\": 0,\n        \"min\": 0,\n        \"max\": 1,\n        \"num_unique_values\": 2,\n        \"samples\": [\n          1\n        ],\n        \"semantic_type\": \"\",\n        \"description\": \"\"\n      }\n    },\n    {\n      \"column\": \"epoc\",\n      \"properties\": {\n        \"dtype\": \"number\",\n        \"std\": 0,\n        \"min\": 0,\n        \"max\": 1,\n        \"num_unique_values\": 2,\n        \"samples\": [\n          1\n        ],\n        \"semantic_type\": \"\",\n        \"description\": \"\"\n      }\n    },\n    {\n      \"column\": \"diabetes\",\n      \"properties\": {\n        \"dtype\": \"number\",\n        \"std\": 0,\n        \"min\": 0,\n        \"max\": 1,\n        \"num_unique_values\": 2,\n        \"samples\": [\n          1\n        ],\n        \"semantic_type\": \"\",\n        \"description\": \"\"\n      }\n    },\n    {\n      \"column\": \"hipertension\",\n      \"properties\": {\n        \"dtype\": \"number\",\n        \"std\": 0,\n        \"min\": 0,\n        \"max\": 1,\n        \"num_unique_values\": 2,\n        \"samples\": [\n          1\n        ],\n        \"semantic_type\": \"\",\n        \"description\": \"\"\n      }\n    },\n    {\n      \"column\": \"enf_cardiovascular\",\n      \"properties\": {\n        \"dtype\": \"number\",\n        \"std\": 0,\n        \"min\": 0,\n        \"max\": 1,\n        \"num_unique_values\": 2,\n        \"samples\": [\n          1\n        ],\n        \"semantic_type\": \"\",\n        \"description\": \"\"\n      }\n    },\n    {\n      \"column\": \"genero\",\n      \"properties\": {\n        \"dtype\": \"number\",\n        \"std\": 0,\n        \"min\": 0,\n        \"max\": 1,\n        \"num_unique_values\": 2,\n        \"samples\": [\n          0\n        ],\n        \"semantic_type\": \"\",\n        \"description\": \"\"\n      }\n    },\n    {\n      \"column\": \"edad\",\n      \"properties\": {\n        \"dtype\": \"number\",\n        \"std\": 14,\n        \"min\": 18,\n        \"max\": 85,\n        \"num_unique_values\": 68,\n        \"samples\": [\n          70\n        ],\n        \"semantic_type\": \"\",\n        \"description\": \"\"\n      }\n    },\n    {\n      \"column\": \"cantidad_enfermedades\",\n      \"properties\": {\n        \"dtype\": \"number\",\n        \"std\": 0,\n        \"min\": 0,\n        \"max\": 4,\n        \"num_unique_values\": 5,\n        \"samples\": [\n          1\n        ],\n        \"semantic_type\": \"\",\n        \"description\": \"\"\n      }\n    },\n    {\n      \"column\": \"clasifica_diagn\",\n      \"properties\": {\n        \"dtype\": \"number\",\n        \"std\": 0,\n        \"min\": 1,\n        \"max\": 4,\n        \"num_unique_values\": 4,\n        \"samples\": [\n          3\n        ],\n        \"semantic_type\": \"\",\n        \"description\": \"\"\n      }\n    }\n  ]\n}"
            }
          },
          "metadata": {},
          "execution_count": 239
        }
      ]
    },
    {
      "cell_type": "code",
      "source": [
        "columnas = ['edad','epoc','diabetes','clasifica_diagn','ciudad','hipertension','cancer','enf_cardiovascular']"
      ],
      "metadata": {
        "id": "iShsexnWL2Yh"
      },
      "execution_count": 240,
      "outputs": []
    },
    {
      "cell_type": "code",
      "source": [
        "y = df['valor_pagado']\n",
        "X = df[columnas]"
      ],
      "metadata": {
        "id": "bXxEeEXRLw-v"
      },
      "execution_count": 241,
      "outputs": []
    },
    {
      "cell_type": "code",
      "source": [
        "# Si los valores de y son continuos, convertirlos a enteros\n",
        "if y.dtype != 'int':\n",
        "    y = y.round().astype(int)"
      ],
      "metadata": {
        "id": "KyzR3BSK-TUt"
      },
      "execution_count": 242,
      "outputs": []
    },
    {
      "cell_type": "code",
      "source": [
        "#Comprobar tamaño de variables\n",
        "print(\"Tamaño de X :\", X.shape)\n",
        "print(\"Tamaño de y :\", y.shape)"
      ],
      "metadata": {
        "id": "bdYS0HMJGOQi",
        "outputId": "276461f1-8ffb-486d-b928-896bce65d20d",
        "colab": {
          "base_uri": "https://localhost:8080/"
        }
      },
      "execution_count": 243,
      "outputs": [
        {
          "output_type": "stream",
          "name": "stdout",
          "text": [
            "Tamaño de X : (26285, 8)\n",
            "Tamaño de y : (26285,)\n"
          ]
        }
      ]
    },
    {
      "cell_type": "code",
      "source": [
        "# Dividir los datos en conjuntos de entrenamiento y prueba\n",
        "X_train, X_test, y_train, y_test = train_test_split(X, y, test_size=0.2, random_state=42)"
      ],
      "metadata": {
        "id": "zecoJgukMOQJ"
      },
      "execution_count": 244,
      "outputs": []
    },
    {
      "cell_type": "code",
      "source": [
        "# Verificar las dimensiones después de la división\n",
        "print(\"Dimensiones de X_train:\", X_train.shape)\n",
        "print(\"Dimensiones de X_test:\", X_test.shape)\n",
        "print(\"Dimensiones de y_train:\", y_train.shape)\n",
        "print(\"Dimensiones de y_test:\", y_test.shape)"
      ],
      "metadata": {
        "id": "eysqNcvBGK5o",
        "outputId": "786f53c5-663e-402e-d408-d720ce35c54b",
        "colab": {
          "base_uri": "https://localhost:8080/"
        }
      },
      "execution_count": 245,
      "outputs": [
        {
          "output_type": "stream",
          "name": "stdout",
          "text": [
            "Dimensiones de X_train: (21028, 8)\n",
            "Dimensiones de X_test: (5257, 8)\n",
            "Dimensiones de y_train: (21028,)\n",
            "Dimensiones de y_test: (5257,)\n"
          ]
        }
      ]
    },
    {
      "cell_type": "code",
      "source": [
        "scaler = StandardScaler()\n",
        "# Ajustar el escalador solo en el conjunto de entrenamiento\n",
        "X_train = scaler.fit_transform(X_train)\n",
        "# Transformar el conjunto de prueba\n",
        "X_test = scaler.transform(X_test)"
      ],
      "metadata": {
        "id": "BIjjPVddFeRZ"
      },
      "execution_count": 246,
      "outputs": []
    },
    {
      "cell_type": "code",
      "source": [
        "# Verificar las dimensiones después del preprocesamiento\n",
        "print(\"Dimensiones de X_train después del escalado:\", X_train.shape)\n",
        "print(\"Dimensiones de X_test después del escalado:\", X_test.shape)"
      ],
      "metadata": {
        "id": "L6qiq7XiKJ5u",
        "outputId": "60a7fb24-5d1b-47bd-97c7-e2eecd2c7b90",
        "colab": {
          "base_uri": "https://localhost:8080/"
        }
      },
      "execution_count": 247,
      "outputs": [
        {
          "output_type": "stream",
          "name": "stdout",
          "text": [
            "Dimensiones de X_train después del escalado: (21028, 8)\n",
            "Dimensiones de X_test después del escalado: (5257, 8)\n"
          ]
        }
      ]
    },
    {
      "cell_type": "markdown",
      "source": [
        "##Regresión Lineal"
      ],
      "metadata": {
        "id": "X9Yd0ml_ME5H"
      }
    },
    {
      "cell_type": "code",
      "source": [
        "# Ajustar el modelo\n",
        "model = LinearRegression()\n",
        "model.fit(X_train, y_train)\n",
        "\n",
        "# Predecir y evaluar el modelo\n",
        "y_pred = model.predict(X_test)\n",
        "rmse = sqrt(mse)\n",
        "mae = mean_absolute_error(y_test, y_pred)\n",
        "# Imprimir las métricas de evaluación\n",
        "print(\"MSE:\", mean_squared_error(y_test, y_pred))\n",
        "print('R2:',r2_score(y_test, y_pred))\n",
        "print(\"RMSE:\", rmse)\n",
        "print(\"MAE:\", mae)"
      ],
      "metadata": {
        "colab": {
          "base_uri": "https://localhost:8080/"
        },
        "id": "hKFTYVbGMETX",
        "outputId": "38d5b5ef-a1fc-45b5-fec2-c047cb78f630"
      },
      "execution_count": 249,
      "outputs": [
        {
          "output_type": "stream",
          "name": "stdout",
          "text": [
            "MSE: 5914485824411.961\n",
            "R2: 0.035348596356535866\n",
            "RMSE: 2433292.9189685117\n",
            "MAE: 1747132.0037556915\n"
          ]
        }
      ]
    },
    {
      "cell_type": "markdown",
      "source": [
        "##Regresión Ridge y Lasso"
      ],
      "metadata": {
        "id": "Aa4vsmvLMecp"
      }
    },
    {
      "cell_type": "code",
      "source": [
        "# Ridge Regression\n",
        "ridge = Ridge(alpha=1.0)\n",
        "ridge_scores = cross_val_score(ridge, X, y, cv=5, scoring='neg_mean_squared_error')\n",
        "print(\"Ridge MSE:\", -ridge_scores.mean())\n",
        "\n",
        "# Lasso Regression\n",
        "lasso = Lasso(alpha=0.1)\n",
        "lasso_scores = cross_val_score(lasso, X, y, cv=5, scoring='neg_mean_squared_error')\n",
        "rmse = sqrt(mse)\n",
        "mae = mean_absolute_error(y_test, y_pred)\n",
        "print(\"Lasso MSE:\", -lasso_scores.mean())\n",
        "print('R2:',r2_score(y_test, y_pred))\n",
        "# Imprimir las métricas de evaluación\n",
        "print(\"RMSE:\", rmse)\n",
        "print(\"MAE:\", mae)"
      ],
      "metadata": {
        "colab": {
          "base_uri": "https://localhost:8080/"
        },
        "id": "kI1KNaNWMeAa",
        "outputId": "b703f110-92b7-4f2a-a77c-5b55817924b9"
      },
      "execution_count": 250,
      "outputs": [
        {
          "output_type": "stream",
          "name": "stdout",
          "text": [
            "Ridge MSE: 5857336061336.568\n",
            "Lasso MSE: 5857340699454.616\n",
            "R2: 0.035348596356535866\n",
            "RMSE: 2433292.9189685117\n",
            "MAE: 1747132.0037556915\n"
          ]
        }
      ]
    },
    {
      "cell_type": "markdown",
      "source": [
        "##Random Forest"
      ],
      "metadata": {
        "id": "IonQpEFMNt_G"
      }
    },
    {
      "cell_type": "code",
      "source": [
        "# Crear el modelo de regresión con Random Forest\n",
        "rf_regressor = RandomForestRegressor(n_estimators=100, max_depth=5, random_state=42)\n",
        "\n",
        "# Entrenar el modelo\n",
        "rf_regressor.fit(X_train, y_train)\n",
        "\n",
        "# Realizar predicciones en el conjunto de prueba\n",
        "y_pred = rf_regressor.predict(X_test)\n",
        "\n",
        "# Calcular las métricas de evaluación\n",
        "mse = mean_squared_error(y_test, y_pred)\n",
        "rmse = sqrt(mse)\n",
        "mae = mean_absolute_error(y_test, y_pred)\n",
        "r2 = r2_score(y_test, y_pred)\n",
        "\n",
        "# Imprimir las métricas de evaluación\n",
        "print(\"MSE:\", mse)\n",
        "print(\"RMSE:\", rmse)\n",
        "print(\"MAE:\", mae)\n",
        "print(\"R-squared:\", r2)"
      ],
      "metadata": {
        "id": "HglHPgPRWKmv",
        "outputId": "d067625e-fba1-4086-e784-cc625dafffe5",
        "colab": {
          "base_uri": "https://localhost:8080/"
        }
      },
      "execution_count": 231,
      "outputs": [
        {
          "output_type": "stream",
          "name": "stdout",
          "text": [
            "MSE: 5312521786734.141\n",
            "RMSE: 2304890.840524588\n",
            "MAE: 1562733.0373864206\n",
            "R-squared: 0.13352880527546263\n"
          ]
        }
      ]
    },
    {
      "cell_type": "markdown",
      "source": [
        "##XGBoost"
      ],
      "metadata": {
        "id": "qZ2ahZy1N5tn"
      }
    },
    {
      "cell_type": "code",
      "source": [
        "model = xgb.XGBRegressor(n_estimators=100, learning_rate=0.1, max_depth=5, random_state=42)\n",
        "model.fit(X_train, y_train)\n",
        "y_pred = model.predict(X_test)\n",
        "rmse = sqrt(mse)\n",
        "mae = mean_absolute_error(y_test, y_pred)\n",
        "r2 = r2_score(y_test, y_pred)\n",
        "print(\"MSE:\", mean_squared_error(y_test, y_pred))\n",
        "print(\"RMSE:\", rmse)\n",
        "print(\"MAE:\", mae)\n",
        "print(\"R-squared:\", r2)"
      ],
      "metadata": {
        "colab": {
          "base_uri": "https://localhost:8080/"
        },
        "id": "OliKnDAdN5Ue",
        "outputId": "b3811fdc-8357-4f41-e355-f2160e704b76"
      },
      "execution_count": 232,
      "outputs": [
        {
          "output_type": "stream",
          "name": "stdout",
          "text": [
            "MSE: 5305282655550.235\n",
            "RMSE: 2304890.840524588\n",
            "MAE: 1560600.5554112373\n",
            "R-squared: 0.13470950606079368\n"
          ]
        }
      ]
    },
    {
      "cell_type": "markdown",
      "source": [
        "##Decisión tree Classifier"
      ],
      "metadata": {
        "id": "hBEA6WprpHx2"
      }
    },
    {
      "cell_type": "code",
      "source": [
        "# Crear el modelo de regresión con Decision Tree Regressor\n",
        "dt_regressor = DecisionTreeRegressor()\n",
        "\n",
        "# Entrenar el modelo\n",
        "dt_regressor.fit(X_train, y_train)\n",
        "\n",
        "# Realizar predicciones en el conjunto de prueba\n",
        "y_pred = dt_regressor.predict(X_test)\n",
        "\n",
        "# Calcular las métricas de evaluación\n",
        "mse = mean_squared_error(y_test, y_pred)\n",
        "rmse = sqrt(mse)\n",
        "mae = mean_absolute_error(y_test, y_pred)\n",
        "r2 = r2_score(y_test, y_pred)\n",
        "\n",
        "# Imprimir las métricas de evaluación\n",
        "print(\"MSE:\", mse)\n",
        "print(\"RMSE:\", rmse)\n",
        "print(\"MAE:\", mae)\n",
        "print(\"R-squared:\", r2)"
      ],
      "metadata": {
        "id": "qPnxunJSAvbO",
        "outputId": "a14cdc92-6da0-4948-fdbb-d5d9af93a35e",
        "colab": {
          "base_uri": "https://localhost:8080/"
        }
      },
      "execution_count": 233,
      "outputs": [
        {
          "output_type": "stream",
          "name": "stdout",
          "text": [
            "MSE: 6028680218050.424\n",
            "RMSE: 2455337.0884769415\n",
            "MAE: 1613284.9545046464\n",
            "R-squared: 0.016723514585795463\n"
          ]
        }
      ]
    },
    {
      "cell_type": "markdown",
      "source": [
        "##SGD Regressor"
      ],
      "metadata": {
        "id": "6v5C3oafqdQJ"
      }
    },
    {
      "cell_type": "code",
      "source": [
        "# Crear el modelo de regresión con SGDRegressor\n",
        "sgd_regressor = SGDRegressor()\n",
        "\n",
        "# Entrenar el modelo\n",
        "sgd_regressor.fit(X_train, y_train)\n",
        "\n",
        "# Realizar predicciones en el conjunto de prueba\n",
        "y_pred = sgd_regressor.predict(X_test)\n",
        "\n",
        "# Calcular las métricas de evaluación\n",
        "mse = mean_squared_error(y_test, y_pred)\n",
        "rmse = sqrt(mse)\n",
        "mae = mean_absolute_error(y_test, y_pred)\n",
        "r2 = r2_score(y_test, y_pred)\n",
        "\n",
        "# Imprimir las métricas de evaluación\n",
        "print(\"MSE:\", mse)\n",
        "print(\"RMSE:\", rmse)\n",
        "print(\"MAE:\", mae)\n",
        "print(\"R-squared:\", r2)\n"
      ],
      "metadata": {
        "id": "IfMkIhwMTuO-",
        "outputId": "b386d22f-ad73-4e87-eb00-85624ba9c126",
        "colab": {
          "base_uri": "https://localhost:8080/"
        }
      },
      "execution_count": 234,
      "outputs": [
        {
          "output_type": "stream",
          "name": "stdout",
          "text": [
            "MSE: 5920914429502.3\n",
            "RMSE: 2433292.9189685117\n",
            "MAE: 1748598.7363645518\n",
            "R-squared: 0.0343000922079133\n"
          ]
        }
      ]
    },
    {
      "cell_type": "markdown",
      "source": [
        "# **Despliegue**"
      ],
      "metadata": {
        "id": "LnvLCCgdpmbj"
      }
    },
    {
      "cell_type": "code",
      "source": [
        "## se guarda el modelo random forest ya que entre todos los modelos aplicados es el mejor, con un R-squared: 0.13352826987170763\n",
        "\n",
        "import pickle\n",
        "nombreArchivo = 'modelo_final.sav'\n",
        "pickle.dump(rf_regressor, open(nombreArchivo, 'wb'))"
      ],
      "metadata": {
        "id": "Ce6Wfaa3pl2s"
      },
      "execution_count": 209,
      "outputs": []
    },
    {
      "cell_type": "code",
      "source": [
        "modeloCargado = pickle.load(open(nombreArchivo, 'rb'))\n",
        "result = modeloCargado.score(X_test, y_test)\n"
      ],
      "metadata": {
        "id": "OPjihRyLqQMY"
      },
      "execution_count": 210,
      "outputs": []
    },
    {
      "cell_type": "code",
      "source": [
        "import joblib\n",
        "joblib.dump(rf_regressor, \"rf_model.pkl\")"
      ],
      "metadata": {
        "id": "1zTtKFOBqUg7",
        "outputId": "f47ab9be-0868-4410-de87-52b8dd6f61ca",
        "colab": {
          "base_uri": "https://localhost:8080/"
        }
      },
      "execution_count": 211,
      "outputs": [
        {
          "output_type": "execute_result",
          "data": {
            "text/plain": [
              "['rf_model.pkl']"
            ]
          },
          "metadata": {},
          "execution_count": 211
        }
      ]
    },
    {
      "cell_type": "code",
      "source": [
        "model = joblib.load('rf_model.pkl')\n",
        "y_predict = model.predict(X_test)\n",
        "print(y_predict)"
      ],
      "metadata": {
        "id": "reRuinCYq9fL",
        "outputId": "5c04bfdf-dc4a-48f6-95d5-9bc27eb53787",
        "colab": {
          "base_uri": "https://localhost:8080/"
        }
      },
      "execution_count": 212,
      "outputs": [
        {
          "output_type": "stream",
          "name": "stdout",
          "text": [
            "[1863268.17206501 3687481.71159333 3869260.00850048 ... 1394678.15539292\n",
            " 1903992.99194177 1394678.15539292]\n"
          ]
        }
      ]
    },
    {
      "cell_type": "code",
      "source": [
        "X.columns"
      ],
      "metadata": {
        "id": "ywF2Gy51rBmN",
        "outputId": "1c5529ed-5e90-4404-f796-5e3d26797023",
        "colab": {
          "base_uri": "https://localhost:8080/"
        }
      },
      "execution_count": 213,
      "outputs": [
        {
          "output_type": "execute_result",
          "data": {
            "text/plain": [
              "Index(['edad', 'epoc', 'diabetes', 'clasifica_diagn', 'ciudad', 'hipertension',\n",
              "       'cancer', 'enf_cardiovascular'],\n",
              "      dtype='object')"
            ]
          },
          "metadata": {},
          "execution_count": 213
        }
      ]
    },
    {
      "cell_type": "code",
      "source": [
        "data_pred={\n",
        "    'edad': 40,\n",
        "    'epoc': 1,\n",
        "    'diabetes':0,\n",
        "    'clasifica_diagn':3,\n",
        "    'ciudad': 2,\n",
        "    'hipertension':0,\n",
        "    'cancer':0,\n",
        "    'enf_cardiovascular': 1\n",
        "\n",
        "}"
      ],
      "metadata": {
        "id": "I-1gGa3RrG4y"
      },
      "execution_count": 214,
      "outputs": []
    },
    {
      "cell_type": "code",
      "source": [
        "data = np.array(list(data_pred.values())).reshape(1, -1)\n",
        "y_predict = model.predict(data)\n",
        "print('El costo del seguro es: ',y_predict[0] )"
      ],
      "metadata": {
        "id": "w25upF4GrsTd",
        "outputId": "beafb612-e349-4fb4-cc71-1ca60fbbd6a9",
        "colab": {
          "base_uri": "https://localhost:8080/"
        }
      },
      "execution_count": 215,
      "outputs": [
        {
          "output_type": "stream",
          "name": "stdout",
          "text": [
            "El costo del seguro es:  2871310.323932727\n"
          ]
        }
      ]
    }
  ]
}